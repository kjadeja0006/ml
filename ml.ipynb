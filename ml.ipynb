{
 "cells": [
  {
   "cell_type": "markdown",
   "id": "0690db7c",
   "metadata": {},
   "source": [
    "# 1. detect eyes "
   ]
  },
  {
   "cell_type": "code",
   "execution_count": 47,
   "id": "294ab1ec",
   "metadata": {},
   "outputs": [
    {
     "name": "stdout",
     "output_type": "stream",
     "text": [
      "[[[255 255 255]\n",
      "  [255 255 255]\n",
      "  [255 255 255]\n",
      "  ...\n",
      "  [255 255 255]\n",
      "  [255 255 255]\n",
      "  [255 255 255]]\n",
      "\n",
      " [[255 255 255]\n",
      "  [255 255 255]\n",
      "  [255 255 255]\n",
      "  ...\n",
      "  [255 255 255]\n",
      "  [255 255 255]\n",
      "  [255 255 255]]\n",
      "\n",
      " [[255 255 255]\n",
      "  [255 255 255]\n",
      "  [255 255 255]\n",
      "  ...\n",
      "  [255 255 255]\n",
      "  [255 255 255]\n",
      "  [255 255 255]]\n",
      "\n",
      " ...\n",
      "\n",
      " [[251 255 255]\n",
      "  [251 255 255]\n",
      "  [253 255 255]\n",
      "  ...\n",
      "  [250 229 201]\n",
      "  [250 229 201]\n",
      "  [247 226 198]]\n",
      "\n",
      " [[253 255 255]\n",
      "  [253 255 255]\n",
      "  [253 255 255]\n",
      "  ...\n",
      "  [251 230 202]\n",
      "  [251 230 202]\n",
      "  [247 226 198]]\n",
      "\n",
      " [[255 255 254]\n",
      "  [253 255 255]\n",
      "  [253 255 255]\n",
      "  ...\n",
      "  [248 229 202]\n",
      "  [248 229 202]\n",
      "  [244 223 195]]]\n",
      "[[62 78 26 26]\n",
      " [99 66 41 41]]\n"
     ]
    }
   ],
   "source": [
    "import cv2\n",
    "img=cv2.imread(\"1.jpg\",cv2.IMREAD_COLOR)\n",
    "print(img)\n",
    "cascade=cv2.CascadeClassifier(\"haarcascade_eye.xml\")\n",
    "grey=cv2.cvtColor(img,cv2.COLOR_BGR2RGB)\n",
    "eyes=cascade.detectMultiScale(grey,1.1,4)\n",
    "print(eyes)\n",
    "for (x,y,w,h) in eyes:\n",
    "    cv2.rectangle(img,(x,y),(x+w,y+h),(0,255,0),3)\n",
    "    cv2.imshow(\"eye detect\",img)\n",
    "cv2.waitKey(4000)\n",
    "cv2.destroyAllWindows()"
   ]
  },
  {
   "cell_type": "markdown",
   "id": "345a125f",
   "metadata": {},
   "source": [
    "# 3.  KMeans Clustering "
   ]
  },
  {
   "cell_type": "code",
   "execution_count": 49,
   "id": "0f094a6d",
   "metadata": {},
   "outputs": [
    {
     "data": {
      "text/plain": [
       "array([1, 1, 1, 1, 1, 1, 1, 1, 1, 1, 1, 1, 1, 1, 1, 1, 1, 1, 1, 1, 1, 1,\n",
       "       1, 1, 1, 1, 1, 1, 1, 1, 1, 1, 1, 1, 1, 1, 1, 1, 1, 1, 1, 1, 1, 1,\n",
       "       1, 1, 1, 1, 1, 1, 1, 1, 1, 1, 1, 1, 1, 1, 1, 1, 1, 1, 1, 1, 1, 1,\n",
       "       1, 1, 1, 1, 1, 1, 1, 1, 1, 1, 1, 0, 0, 0, 0, 0, 0, 0, 0, 0, 0, 0,\n",
       "       0, 0, 0, 0, 0, 0, 0, 0, 0, 0, 0, 0, 0, 0, 0, 0, 0, 0, 0, 0, 0, 0,\n",
       "       0, 0, 0, 0, 0, 0, 0, 0, 0, 0, 0, 0, 0, 0, 0, 0, 0, 0, 0, 0, 0, 0,\n",
       "       0, 0, 0, 0, 0, 0, 0, 0, 0, 0, 0, 0, 0, 0, 0, 0, 0, 0, 0, 0, 0, 0,\n",
       "       0])"
      ]
     },
     "execution_count": 49,
     "metadata": {},
     "output_type": "execute_result"
    }
   ],
   "source": [
    "import pandas as pd\n",
    "from sklearn.cluster import KMeans\n",
    "dataset=pd.read_csv(\"3.csv\")\n",
    "data=dataset.iloc[:,1:]\n",
    "k=KMeans(init='k-means++',n_clusters=2)\n",
    "k.fit_predict(data)"
   ]
  },
  {
   "cell_type": "code",
   "execution_count": null,
   "id": "03e19f6f",
   "metadata": {},
   "outputs": [],
   "source": []
  }
 ],
 "metadata": {
  "kernelspec": {
   "display_name": "Python 3 (ipykernel)",
   "language": "python",
   "name": "python3"
  },
  "language_info": {
   "codemirror_mode": {
    "name": "ipython",
    "version": 3
   },
   "file_extension": ".py",
   "mimetype": "text/x-python",
   "name": "python",
   "nbconvert_exporter": "python",
   "pygments_lexer": "ipython3",
   "version": "3.9.6"
  }
 },
 "nbformat": 4,
 "nbformat_minor": 5
}
